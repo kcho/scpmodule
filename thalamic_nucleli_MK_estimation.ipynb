{
 "cells": [
  {
   "cell_type": "markdown",
   "metadata": {},
   "source": [
    "# Thalamic nuclei mean kurtosis estimation"
   ]
  },
  {
   "cell_type": "markdown",
   "metadata": {},
   "source": [
    "> Import ROIs"
   ]
  },
  {
   "cell_type": "code",
   "execution_count": 13,
   "metadata": {
    "collapsed": true
   },
   "outputs": [],
   "source": [
    "import pandas as pd\n",
    "import os\n",
    "import re\n",
    "import numpy as np\n",
    "import nibabel as nb\n",
    "import argparse\n",
    "import textwrap"
   ]
  },
  {
   "cell_type": "markdown",
   "metadata": {},
   "source": [
    "> Set input subjects / file locations"
   ]
  },
  {
   "cell_type": "code",
   "execution_count": 4,
   "metadata": {
    "collapsed": true
   },
   "outputs": [],
   "source": [
    "dataLoc = os.getcwd()\n",
    "subjects = [x for x in os.listdir(dataLoc) if x.startswith('N') or x.startswith('F')]"
   ]
  },
  {
   "cell_type": "code",
   "execution_count": 34,
   "metadata": {
    "collapsed": false
   },
   "outputs": [],
   "source": [
    "def get_segment_map(subject,side):\n",
    "    '''\n",
    "    Returns nibabel matrix of \n",
    "    the connectivity-based segmentation map of thalamus\n",
    "    '''\n",
    "    segment_file = os.path.join(dataLoc,\n",
    "                              subject,\n",
    "                              'segmentation',\n",
    "                              side,\n",
    "                              'dki_biggest.nii.gz')\n",
    "    f = nb.load(segment_file)\n",
    "    segment_map = f.get_data()\n",
    "    return segment_map"
   ]
  },
  {
   "cell_type": "code",
   "execution_count": 35,
   "metadata": {
    "collapsed": true
   },
   "outputs": [],
   "source": [
    "def get_mk_map(subject):\n",
    "    '''\n",
    "    Returns nibabel matrix of\n",
    "    the whole brain mean kurtosis image\n",
    "    '''\n",
    "    mk_file = os.path.join(dataLoc,\n",
    "                         subject,\n",
    "                         'DKI',\n",
    "                         'kmean.nii')\n",
    "    f = nb.load(mk_file)\n",
    "    mk_map = f.get_data()\n",
    "    return mk_map"
   ]
  },
  {
   "cell_type": "code",
   "execution_count": 59,
   "metadata": {
    "collapsed": true
   },
   "outputs": [],
   "source": [
    "def get_mean_MK_for_nuclei(segment_map, mk_map, cortex):\n",
    "    '''\n",
    "    Returns mean of the MK \n",
    "    of the thalamic segments \n",
    "    in connection to sepcific cortex\n",
    "    '''\n",
    "    nuclei_dict = {\"LPFC\":1,\n",
    "                  \"LTC\":2,\n",
    "                  \"MPFC\":3,\n",
    "                  \"MTC\":4,\n",
    "                  \"OCC\":5,\n",
    "                  \"OFC\":6,\n",
    "                  \"PC\":7,\n",
    "                  \"SMC\":8}\n",
    "    nucleiNum = nuclei_dict[cortex]\n",
    "    cortexMap = segment_map == nucleiNum\n",
    "    segment_volume = np.sum(cortexMap)\n",
    "    \n",
    "    segment_mk = cortexMap * mk_map\n",
    "    mk_mean = segment_mk[segment_mk!=0].mean()\n",
    "\n",
    "    return mk_mean, segment_volume"
   ]
  },
  {
   "cell_type": "code",
   "execution_count": 60,
   "metadata": {
    "collapsed": true
   },
   "outputs": [],
   "source": [
    "def thalamic_mk(subject, side):\n",
    "    '''\n",
    "    Returns a pandas dataframe,\n",
    "    containing MK of thalamic segments \n",
    "    for a given subject\n",
    "    '''\n",
    "    group = subject[:3]\n",
    "    segment_map = get_segment_map(subject, side)\n",
    "    mk_map = get_mk_map(subject)\n",
    "    \n",
    "    df = pd.DataFrame()\n",
    "    for cortex in [\"LPFC\", \"LTC\", \"MPFC\", \"MTC\", \"OCC\", \"OFC\", \"PC\", \"SMC\"]:\n",
    "        mk_mean, segment_volume = get_mean_MK_for_nuclei(segment_map, mk_map, cortex)\n",
    "        cortex_df = pd.DataFrame(data = [[mk_mean, segment_volume,cortex, side, group]], \n",
    "                                 index=[subject], \n",
    "                                 columns=['MK','volume','cortex','side','group'])\n",
    "        df = pd.concat([df, cortex_df])\n",
    "    \n",
    "    return df"
   ]
  },
  {
   "cell_type": "code",
   "execution_count": 61,
   "metadata": {
    "collapsed": false
   },
   "outputs": [
    {
     "data": {
      "text/html": [
       "<div>\n",
       "<table border=\"1\" class=\"dataframe\">\n",
       "  <thead>\n",
       "    <tr style=\"text-align: right;\">\n",
       "      <th></th>\n",
       "      <th>MK</th>\n",
       "      <th>volume</th>\n",
       "      <th>cortex</th>\n",
       "      <th>side</th>\n",
       "      <th>group</th>\n",
       "    </tr>\n",
       "  </thead>\n",
       "  <tbody>\n",
       "    <tr>\n",
       "      <th>NOR26_YJH</th>\n",
       "      <td>0.830991446972</td>\n",
       "      <td>137</td>\n",
       "      <td>LPFC</td>\n",
       "      <td>left</td>\n",
       "      <td>NOR</td>\n",
       "    </tr>\n",
       "    <tr>\n",
       "      <th>NOR26_YJH</th>\n",
       "      <td>0.722406148911</td>\n",
       "      <td>128</td>\n",
       "      <td>LTC</td>\n",
       "      <td>left</td>\n",
       "      <td>NOR</td>\n",
       "    </tr>\n",
       "    <tr>\n",
       "      <th>NOR26_YJH</th>\n",
       "      <td>0.741360068321</td>\n",
       "      <td>71</td>\n",
       "      <td>MPFC</td>\n",
       "      <td>left</td>\n",
       "      <td>NOR</td>\n",
       "    </tr>\n",
       "    <tr>\n",
       "      <th>NOR26_YJH</th>\n",
       "      <td>0.724031865597</td>\n",
       "      <td>6</td>\n",
       "      <td>MTC</td>\n",
       "      <td>left</td>\n",
       "      <td>NOR</td>\n",
       "    </tr>\n",
       "    <tr>\n",
       "      <th>NOR26_YJH</th>\n",
       "      <td>nan</td>\n",
       "      <td>0</td>\n",
       "      <td>OCC</td>\n",
       "      <td>left</td>\n",
       "      <td>NOR</td>\n",
       "    </tr>\n",
       "    <tr>\n",
       "      <th>NOR26_YJH</th>\n",
       "      <td>1.07476615906</td>\n",
       "      <td>10</td>\n",
       "      <td>OFC</td>\n",
       "      <td>left</td>\n",
       "      <td>NOR</td>\n",
       "    </tr>\n",
       "    <tr>\n",
       "      <th>NOR26_YJH</th>\n",
       "      <td>0.856482565403</td>\n",
       "      <td>138</td>\n",
       "      <td>PC</td>\n",
       "      <td>left</td>\n",
       "      <td>NOR</td>\n",
       "    </tr>\n",
       "    <tr>\n",
       "      <th>NOR26_YJH</th>\n",
       "      <td>0.787861406803</td>\n",
       "      <td>126</td>\n",
       "      <td>SMC</td>\n",
       "      <td>left</td>\n",
       "      <td>NOR</td>\n",
       "    </tr>\n",
       "  </tbody>\n",
       "</table>\n",
       "</div>"
      ],
      "text/plain": [
       "                       MK  volume cortex  side group\n",
       "NOR26_YJH  0.830991446972     137   LPFC  left   NOR\n",
       "NOR26_YJH  0.722406148911     128    LTC  left   NOR\n",
       "NOR26_YJH  0.741360068321      71   MPFC  left   NOR\n",
       "NOR26_YJH  0.724031865597       6    MTC  left   NOR\n",
       "NOR26_YJH             nan       0    OCC  left   NOR\n",
       "NOR26_YJH   1.07476615906      10    OFC  left   NOR\n",
       "NOR26_YJH  0.856482565403     138     PC  left   NOR\n",
       "NOR26_YJH  0.787861406803     126    SMC  left   NOR"
      ]
     },
     "execution_count": 61,
     "metadata": {},
     "output_type": "execute_result"
    }
   ],
   "source": [
    "thalamic_mk('NOR26_YJH','left')"
   ]
  },
  {
   "cell_type": "code",
   "execution_count": 62,
   "metadata": {
    "collapsed": false
   },
   "outputs": [
    {
     "data": {
      "text/html": [
       "<div>\n",
       "<table border=\"1\" class=\"dataframe\">\n",
       "  <thead>\n",
       "    <tr style=\"text-align: right;\">\n",
       "      <th></th>\n",
       "      <th>MK</th>\n",
       "      <th>volume</th>\n",
       "      <th>cortex</th>\n",
       "      <th>side</th>\n",
       "      <th>group</th>\n",
       "    </tr>\n",
       "  </thead>\n",
       "  <tbody>\n",
       "    <tr>\n",
       "      <th>NOR81_KSA</th>\n",
       "      <td>0.973071753979</td>\n",
       "      <td>117</td>\n",
       "      <td>LPFC</td>\n",
       "      <td>left</td>\n",
       "      <td>NOR</td>\n",
       "    </tr>\n",
       "    <tr>\n",
       "      <th>NOR81_KSA</th>\n",
       "      <td>0.670243799686</td>\n",
       "      <td>1</td>\n",
       "      <td>LTC</td>\n",
       "      <td>left</td>\n",
       "      <td>NOR</td>\n",
       "    </tr>\n",
       "    <tr>\n",
       "      <th>NOR81_KSA</th>\n",
       "      <td>1.10995388031</td>\n",
       "      <td>6</td>\n",
       "      <td>MPFC</td>\n",
       "      <td>left</td>\n",
       "      <td>NOR</td>\n",
       "    </tr>\n",
       "    <tr>\n",
       "      <th>NOR81_KSA</th>\n",
       "      <td>0.633870244026</td>\n",
       "      <td>151</td>\n",
       "      <td>MTC</td>\n",
       "      <td>left</td>\n",
       "      <td>NOR</td>\n",
       "    </tr>\n",
       "    <tr>\n",
       "      <th>NOR81_KSA</th>\n",
       "      <td>nan</td>\n",
       "      <td>0</td>\n",
       "      <td>OCC</td>\n",
       "      <td>left</td>\n",
       "      <td>NOR</td>\n",
       "    </tr>\n",
       "    <tr>\n",
       "      <th>NOR81_KSA</th>\n",
       "      <td>1.1396958828</td>\n",
       "      <td>80</td>\n",
       "      <td>OFC</td>\n",
       "      <td>left</td>\n",
       "      <td>NOR</td>\n",
       "    </tr>\n",
       "    <tr>\n",
       "      <th>NOR81_KSA</th>\n",
       "      <td>0.956947147846</td>\n",
       "      <td>209</td>\n",
       "      <td>PC</td>\n",
       "      <td>left</td>\n",
       "      <td>NOR</td>\n",
       "    </tr>\n",
       "    <tr>\n",
       "      <th>NOR81_KSA</th>\n",
       "      <td>0.766120910645</td>\n",
       "      <td>30</td>\n",
       "      <td>SMC</td>\n",
       "      <td>left</td>\n",
       "      <td>NOR</td>\n",
       "    </tr>\n",
       "  </tbody>\n",
       "</table>\n",
       "</div>"
      ],
      "text/plain": [
       "                       MK  volume cortex  side group\n",
       "NOR81_KSA  0.973071753979     117   LPFC  left   NOR\n",
       "NOR81_KSA  0.670243799686       1    LTC  left   NOR\n",
       "NOR81_KSA   1.10995388031       6   MPFC  left   NOR\n",
       "NOR81_KSA  0.633870244026     151    MTC  left   NOR\n",
       "NOR81_KSA             nan       0    OCC  left   NOR\n",
       "NOR81_KSA    1.1396958828      80    OFC  left   NOR\n",
       "NOR81_KSA  0.956947147846     209     PC  left   NOR\n",
       "NOR81_KSA  0.766120910645      30    SMC  left   NOR"
      ]
     },
     "execution_count": 62,
     "metadata": {},
     "output_type": "execute_result"
    }
   ],
   "source": [
    "thalamic_mk('NOR81_KSA','left')"
   ]
  },
  {
   "cell_type": "code",
   "execution_count": 42,
   "metadata": {
    "collapsed": true
   },
   "outputs": [],
   "source": [
    "def main():\n",
    "    '''\n",
    "    Estimates the mean kurtosis in the thalamic segments\n",
    "    for all subjects.\n",
    "    The thalamic segments is obtained from the connectivity-based segmentation\n",
    "    from FSL.\n",
    "    \n",
    "    It returns mk_data.csv containing all subjects' data.\n",
    "    \n",
    "    '''\n",
    "    allData = pd.DataFrame()\n",
    "    for subject in subjects:\n",
    "        for side in ['left','right']:\n",
    "            subjectDf = thalamic_mk(subject, side)\n",
    "            allData = pd.concat([allData, subjectDf])\n",
    "    \n",
    "    allData.to_csv('mk_data.csv')"
   ]
  },
  {
   "cell_type": "code",
   "execution_count": null,
   "metadata": {
    "collapsed": true
   },
   "outputs": [],
   "source": []
  },
  {
   "cell_type": "markdown",
   "metadata": {},
   "source": [
    "```\n",
    "if __name__ == '__main__':\n",
    "    parser = argparse.ArgumentParser(\n",
    "        formatter_class=argparse.RawDescriptionHelpFormatter,\n",
    "        description=textwrap.dedent('''\\\n",
    "            {codeName} : Estimates mean kurtosis in the thalamic nuclei\n",
    "            ===========================================================\n",
    "            '''.format(codeName=os.path.basename(__file__))))\n",
    "\n",
    "    parser.add_argument(\n",
    "        '-s', '--subjects',\n",
    "        help='subject list',\n",
    "        nargs='+')\n",
    "\n",
    "    parser.add_argument(\n",
    "        '-side', '--side',\n",
    "        help='side')\n",
    "    \n",
    "    args = parser.parse_args()    \n",
    "    thalamic_mk(args)\n",
    "```"
   ]
  },
  {
   "cell_type": "code",
   "execution_count": null,
   "metadata": {
    "collapsed": true
   },
   "outputs": [],
   "source": []
  }
 ],
 "metadata": {
  "kernelspec": {
   "display_name": "Python 2",
   "language": "python",
   "name": "python2"
  },
  "language_info": {
   "codemirror_mode": {
    "name": "ipython",
    "version": 2
   },
   "file_extension": ".py",
   "mimetype": "text/x-python",
   "name": "python",
   "nbconvert_exporter": "python",
   "pygments_lexer": "ipython2",
   "version": "2.7.2"
  }
 },
 "nbformat": 4,
 "nbformat_minor": 0
}
