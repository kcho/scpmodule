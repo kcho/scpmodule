{
 "cells": [
  {
   "cell_type": "markdown",
   "metadata": {},
   "source": [
    "# Thalamic nuclei mean kurtosis estimation"
   ]
  },
  {
   "cell_type": "markdown",
   "metadata": {},
   "source": [
    "> Import modules"
   ]
  },
  {
   "cell_type": "code",
   "execution_count": 1,
   "metadata": {
    "collapsed": true
   },
   "outputs": [],
   "source": [
    "import pandas as pd\n",
    "import os\n",
    "import re\n",
    "import numpy as np\n",
    "import nibabel as nb\n",
    "import argparse\n",
    "import textwrap"
   ]
  },
  {
   "cell_type": "markdown",
   "metadata": {},
   "source": [
    "> Set input subjects / file locations"
   ]
  },
  {
   "cell_type": "code",
   "execution_count": 2,
   "metadata": {
    "collapsed": true
   },
   "outputs": [],
   "source": [
    "dataLoc = os.getcwd()\n",
    "subjects = [x for x in os.listdir(dataLoc) if x.startswith('N') or x.startswith('F')]"
   ]
  },
  {
   "cell_type": "code",
   "execution_count": 3,
   "metadata": {
    "collapsed": false
   },
   "outputs": [],
   "source": [
    "def get_segment_map(subject,side):\n",
    "    '''\n",
    "    Returns nibabel matrix of \n",
    "    the connectivity-based segmentation map of thalamus\n",
    "    '''\n",
    "    segment_file = os.path.join(dataLoc,\n",
    "                              subject,\n",
    "                              'segmentation',\n",
    "                              side,\n",
    "                              'dki_biggest.nii.gz')\n",
    "    f = nb.load(segment_file)\n",
    "    segment_map = f.get_data()\n",
    "    return segment_map"
   ]
  },
  {
   "cell_type": "code",
   "execution_count": 4,
   "metadata": {
    "collapsed": true
   },
   "outputs": [],
   "source": [
    "def get_mk_map(subject):\n",
    "    '''\n",
    "    Returns nibabel matrix of\n",
    "    the whole brain mean kurtosis image\n",
    "    '''\n",
    "    mk_file = os.path.join(dataLoc,\n",
    "                         subject,\n",
    "                         'DKI',\n",
    "                         'kmean.nii')\n",
    "    f = nb.load(mk_file)\n",
    "    mk_map = f.get_data()\n",
    "    return mk_map"
   ]
  },
  {
   "cell_type": "code",
   "execution_count": 5,
   "metadata": {
    "collapsed": true
   },
   "outputs": [],
   "source": [
    "def get_mean_MK_for_nuclei(segment_map, mk_map, cortex):\n",
    "    '''\n",
    "    Returns mean of the MK, and the volume \n",
    "    of the thalamic segment\n",
    "    in connection to sepcific cortex\n",
    "    '''\n",
    "    nuclei_dict = {\"LPFC\":1,\n",
    "                  \"LTC\":2,\n",
    "                  \"MPFC\":3,\n",
    "                  \"MTC\":4,\n",
    "                  \"OCC\":5,\n",
    "                  \"OFC\":6,\n",
    "                  \"PC\":7,\n",
    "                  \"SMC\":8}\n",
    "    nucleiNum = nuclei_dict[cortex]\n",
    "    cortexMap = segment_map == nucleiNum # returns boolean matrix of the matching cortex\n",
    "    segment_volume = np.sum(cortexMap) # count number of True (voxels of the matching cortex)\n",
    "    \n",
    "    segment_mk = cortexMap * mk_map # returns mk_map within the thalamic nucleus of matching cortex\n",
    "    mk_mean = segment_mk[segment_mk!=0].mean() # non-zero mean\n",
    "\n",
    "    return mk_mean, segment_volume"
   ]
  },
  {
   "cell_type": "code",
   "execution_count": 27,
   "metadata": {
    "collapsed": true
   },
   "outputs": [],
   "source": [
    "def get_short_side(side):\n",
    "    if side == 'left':\n",
    "        side_s = 'lh'\n",
    "    else:\n",
    "        side_s = 'rh'\n",
    "    return side_s"
   ]
  },
  {
   "cell_type": "code",
   "execution_count": 28,
   "metadata": {
    "collapsed": true
   },
   "outputs": [],
   "source": [
    "def get_cortex_volume(subject, side, cortex):\n",
    "    '''\n",
    "    Returns the volume of the given cortex ROI\n",
    "    '''\n",
    "    side_s = get_short_side(side)\n",
    "    cortexROI = os.path.join(dataLoc,\n",
    "                            subject,\n",
    "                            'ROI',\n",
    "                            '{side_s}_{cortex}.nii.gz'.format(side_s=side_s,\n",
    "                                                             cortex=cortex))\n",
    "    cortexVolume = get_volume(cortexROI)\n",
    "    return cortexVolume"
   ]
  },
  {
   "cell_type": "code",
   "execution_count": 29,
   "metadata": {
    "collapsed": true
   },
   "outputs": [],
   "source": [
    "def get_connectivity_for_nuclei(subject, side, cortex):\n",
    "    '''\n",
    "    Returns the sum of connectivity\n",
    "    in the thalamic segment\n",
    "    '''\n",
    "\n",
    "    \n",
    "    side_s = get_short_side(side)\n",
    "    connectivity_file = os.path.join(dataLoc, \n",
    "                                    subject,\n",
    "                                    'segmentation',\n",
    "                                    side,\n",
    "                                    'seeds_to_{side_s}_{cortex}.nii.gz'.format(side_s=side_s,\n",
    "                                                                                cortex=cortex))\n",
    "    totalConnectivity = get_volume(connectivity_file)\n",
    "    return totalConnectivity\n",
    "    "
   ]
  },
  {
   "cell_type": "code",
   "execution_count": 30,
   "metadata": {
    "collapsed": true
   },
   "outputs": [],
   "source": [
    "def get_volume(imgFile):\n",
    "    return nb.load(imgFile).get_data().sum()"
   ]
  },
  {
   "cell_type": "code",
   "execution_count": 33,
   "metadata": {
    "collapsed": true
   },
   "outputs": [],
   "source": [
    "def thalamic_mk(subject, side):\n",
    "    '''\n",
    "    Returns a pandas dataframe,\n",
    "    containing MK of thalamic segments \n",
    "    for a given subject\n",
    "    '''\n",
    "    group = subject[:3]\n",
    "    segment_map = get_segment_map(subject, side)\n",
    "    mk_map = get_mk_map(subject)\n",
    "    \n",
    "    df = pd.DataFrame()\n",
    "    for cortex in [\"LPFC\", \"LTC\", \"MPFC\", \"MTC\", \"OCC\", \"OFC\", \"PC\", \"SMC\"]:\n",
    "        totalConnectivity = get_connectivity_for_nuclei(subject, side, cortex)\n",
    "        cortexVolume = get_cortex_volume(subject, side, cortex)\n",
    "        mk_mean, segment_volume = get_mean_MK_for_nuclei(segment_map, mk_map, cortex)\n",
    "        \n",
    "        cortex_df = pd.DataFrame(data = [[mk_mean, \n",
    "                                          segment_volume,\n",
    "                                          totalConnectivity,\n",
    "                                          cortexVolume,\n",
    "                                          cortex, \n",
    "                                          side, \n",
    "                                          group]], \n",
    "                                 index=[subject], \n",
    "                                 columns=['MK',\n",
    "                                          'nucleiVolume',\n",
    "                                          'totalConnectivity',\n",
    "                                          'cortexVolume',\n",
    "                                          'cortex',\n",
    "                                          'side',\n",
    "                                          'group'])\n",
    "        df = pd.concat([df, cortex_df])\n",
    "    \n",
    "    df['relativeConnectivity'] = df.totalConnectivity / df.totalConnectivity.sum()\n",
    "    df['thalamucVolume'] = get_\n",
    "    return df"
   ]
  },
  {
   "cell_type": "code",
   "execution_count": 34,
   "metadata": {
    "collapsed": false
   },
   "outputs": [
    {
     "data": {
      "text/html": [
       "<div>\n",
       "<table border=\"1\" class=\"dataframe\">\n",
       "  <thead>\n",
       "    <tr style=\"text-align: right;\">\n",
       "      <th></th>\n",
       "      <th>MK</th>\n",
       "      <th>nucleiVolume</th>\n",
       "      <th>totalConnectivity</th>\n",
       "      <th>cortexVolume</th>\n",
       "      <th>cortex</th>\n",
       "      <th>side</th>\n",
       "      <th>group</th>\n",
       "      <th>relativeConnectivity</th>\n",
       "    </tr>\n",
       "  </thead>\n",
       "  <tbody>\n",
       "    <tr>\n",
       "      <th>NOR76_KKT</th>\n",
       "      <td>0.760467946529</td>\n",
       "      <td>104</td>\n",
       "      <td>2460381</td>\n",
       "      <td>28697</td>\n",
       "      <td>LPFC</td>\n",
       "      <td>left</td>\n",
       "      <td>NOR</td>\n",
       "      <td>0.146904</td>\n",
       "    </tr>\n",
       "    <tr>\n",
       "      <th>NOR76_KKT</th>\n",
       "      <td>0.947559952736</td>\n",
       "      <td>5</td>\n",
       "      <td>351841</td>\n",
       "      <td>51218</td>\n",
       "      <td>LTC</td>\n",
       "      <td>left</td>\n",
       "      <td>NOR</td>\n",
       "      <td>0.021008</td>\n",
       "    </tr>\n",
       "    <tr>\n",
       "      <th>NOR76_KKT</th>\n",
       "      <td>0.907443940639</td>\n",
       "      <td>88</td>\n",
       "      <td>2146572</td>\n",
       "      <td>32587</td>\n",
       "      <td>MPFC</td>\n",
       "      <td>left</td>\n",
       "      <td>NOR</td>\n",
       "      <td>0.128167</td>\n",
       "    </tr>\n",
       "    <tr>\n",
       "      <th>NOR76_KKT</th>\n",
       "      <td>0.716338574886</td>\n",
       "      <td>163</td>\n",
       "      <td>1122250</td>\n",
       "      <td>15056</td>\n",
       "      <td>MTC</td>\n",
       "      <td>left</td>\n",
       "      <td>NOR</td>\n",
       "      <td>0.067007</td>\n",
       "    </tr>\n",
       "    <tr>\n",
       "      <th>NOR76_KKT</th>\n",
       "      <td>nan</td>\n",
       "      <td>0</td>\n",
       "      <td>22813</td>\n",
       "      <td>27465</td>\n",
       "      <td>OCC</td>\n",
       "      <td>left</td>\n",
       "      <td>NOR</td>\n",
       "      <td>0.001362</td>\n",
       "    </tr>\n",
       "    <tr>\n",
       "      <th>NOR76_KKT</th>\n",
       "      <td>1.03520548344</td>\n",
       "      <td>37</td>\n",
       "      <td>2044323</td>\n",
       "      <td>15889</td>\n",
       "      <td>OFC</td>\n",
       "      <td>left</td>\n",
       "      <td>NOR</td>\n",
       "      <td>0.122062</td>\n",
       "    </tr>\n",
       "    <tr>\n",
       "      <th>NOR76_KKT</th>\n",
       "      <td>1.02211666107</td>\n",
       "      <td>326</td>\n",
       "      <td>6621119</td>\n",
       "      <td>62184</td>\n",
       "      <td>PC</td>\n",
       "      <td>left</td>\n",
       "      <td>NOR</td>\n",
       "      <td>0.395333</td>\n",
       "    </tr>\n",
       "    <tr>\n",
       "      <th>NOR76_KKT</th>\n",
       "      <td>0.828021883965</td>\n",
       "      <td>4</td>\n",
       "      <td>1978898</td>\n",
       "      <td>36532</td>\n",
       "      <td>SMC</td>\n",
       "      <td>left</td>\n",
       "      <td>NOR</td>\n",
       "      <td>0.118156</td>\n",
       "    </tr>\n",
       "  </tbody>\n",
       "</table>\n",
       "</div>"
      ],
      "text/plain": [
       "                       MK  nucleiVolume  totalConnectivity  cortexVolume  \\\n",
       "NOR76_KKT  0.760467946529           104            2460381         28697   \n",
       "NOR76_KKT  0.947559952736             5             351841         51218   \n",
       "NOR76_KKT  0.907443940639            88            2146572         32587   \n",
       "NOR76_KKT  0.716338574886           163            1122250         15056   \n",
       "NOR76_KKT             nan             0              22813         27465   \n",
       "NOR76_KKT   1.03520548344            37            2044323         15889   \n",
       "NOR76_KKT   1.02211666107           326            6621119         62184   \n",
       "NOR76_KKT  0.828021883965             4            1978898         36532   \n",
       "\n",
       "          cortex  side group  relativeConnectivity  \n",
       "NOR76_KKT   LPFC  left   NOR              0.146904  \n",
       "NOR76_KKT    LTC  left   NOR              0.021008  \n",
       "NOR76_KKT   MPFC  left   NOR              0.128167  \n",
       "NOR76_KKT    MTC  left   NOR              0.067007  \n",
       "NOR76_KKT    OCC  left   NOR              0.001362  \n",
       "NOR76_KKT    OFC  left   NOR              0.122062  \n",
       "NOR76_KKT     PC  left   NOR              0.395333  \n",
       "NOR76_KKT    SMC  left   NOR              0.118156  "
      ]
     },
     "execution_count": 34,
     "metadata": {},
     "output_type": "execute_result"
    }
   ],
   "source": [
    "thalamic_mk('NOR76_KKT','left')"
   ]
  },
  {
   "cell_type": "code",
   "execution_count": 42,
   "metadata": {
    "collapsed": true
   },
   "outputs": [],
   "source": [
    "def main():\n",
    "    '''\n",
    "    Estimates the mean kurtosis in the thalamic segments\n",
    "    for all subjects.\n",
    "    The thalamic segments is obtained from the connectivity-based segmentation\n",
    "    from FSL.\n",
    "    \n",
    "    It returns mk_data.csv containing all subjects' data.\n",
    "    \n",
    "    '''\n",
    "    allData = pd.DataFrame()\n",
    "    for subject in subjects:\n",
    "        for side in ['left','right']:\n",
    "            subjectDf = thalamic_mk(subject, side)\n",
    "            allData = pd.concat([allData, subjectDf])\n",
    "    \n",
    "    allData.to_csv('mk_data.csv')"
   ]
  },
  {
   "cell_type": "markdown",
   "metadata": {},
   "source": [
    "```\n",
    "if __name__ == '__main__':\n",
    "    parser = argparse.ArgumentParser(\n",
    "        formatter_class=argparse.RawDescriptionHelpFormatter,\n",
    "        description=textwrap.dedent('''\\\n",
    "            {codeName} : Estimates mean kurtosis in the thalamic nuclei\n",
    "            ===========================================================\n",
    "            '''.format(codeName=os.path.basename(__file__))))\n",
    "\n",
    "    parser.add_argument(\n",
    "        '-s', '--subjects',\n",
    "        help='subject list',\n",
    "        nargs='+')\n",
    "\n",
    "    parser.add_argument(\n",
    "        '-side', '--side',\n",
    "        help='side')\n",
    "    \n",
    "    args = parser.parse_args()    \n",
    "    thalamic_mk(args)\n",
    "```"
   ]
  }
 ],
 "metadata": {
  "kernelspec": {
   "display_name": "Python 2",
   "language": "python",
   "name": "python2"
  },
  "language_info": {
   "codemirror_mode": {
    "name": "ipython",
    "version": 2
   },
   "file_extension": ".py",
   "mimetype": "text/x-python",
   "name": "python",
   "nbconvert_exporter": "python",
   "pygments_lexer": "ipython2",
   "version": "2.7.2"
  }
 },
 "nbformat": 4,
 "nbformat_minor": 0
}
