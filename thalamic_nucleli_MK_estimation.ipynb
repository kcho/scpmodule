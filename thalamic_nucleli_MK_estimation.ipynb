{
 "cells": [
  {
   "cell_type": "markdown",
   "metadata": {},
   "source": [
    "# Thalamic nuclei mean kurtosis estimation"
   ]
  },
  {
   "cell_type": "markdown",
   "metadata": {},
   "source": [
    "> Import ROIs"
   ]
  },
  {
   "cell_type": "code",
   "execution_count": 1,
   "metadata": {
    "collapsed": true
   },
   "outputs": [],
   "source": [
    "import pandas as pd\n",
    "import os\n",
    "import re\n",
    "import numpy as np\n",
    "import nibabel as nb\n",
    "import argparse\n",
    "import textwrap"
   ]
  },
  {
   "cell_type": "markdown",
   "metadata": {},
   "source": [
    "> Set input subjects / file locations"
   ]
  },
  {
   "cell_type": "code",
   "execution_count": 2,
   "metadata": {
    "collapsed": true
   },
   "outputs": [],
   "source": [
    "dataLoc = os.getcwd()\n",
    "subjects = [x for x in os.listdir(dataLoc) if x.startswith('N') or x.startswith('F')]"
   ]
  },
  {
   "cell_type": "code",
   "execution_count": 3,
   "metadata": {
    "collapsed": false
   },
   "outputs": [],
   "source": [
    "def get_segment_map(subject,side):\n",
    "    '''\n",
    "    Returns nibabel matrix of \n",
    "    the connectivity-based segmentation map of thalamus\n",
    "    '''\n",
    "    segment_file = os.path.join(dataLoc,\n",
    "                              subject,\n",
    "                              'segmentation',\n",
    "                              side,\n",
    "                              'dki_biggest.nii.gz')\n",
    "    f = nb.load(segment_file)\n",
    "    segment_map = f.get_data()\n",
    "    return segment_map"
   ]
  },
  {
   "cell_type": "code",
   "execution_count": 4,
   "metadata": {
    "collapsed": true
   },
   "outputs": [],
   "source": [
    "def get_mk_map(subject):\n",
    "    '''\n",
    "    Returns nibabel matrix of\n",
    "    the whole brain mean kurtosis image\n",
    "    '''\n",
    "    mk_file = os.path.join(dataLoc,\n",
    "                         subject,\n",
    "                         'DKI',\n",
    "                         'kmean.nii')\n",
    "    f = nb.load(mk_file)\n",
    "    mk_map = f.get_data()\n",
    "    return mk_map"
   ]
  },
  {
   "cell_type": "code",
   "execution_count": 5,
   "metadata": {
    "collapsed": true
   },
   "outputs": [],
   "source": [
    "def get_mean_MK_for_nuclei(segment_map, mk_map, cortex):\n",
    "    '''\n",
    "    Returns mean of the MK, and the volume \n",
    "    of the thalamic segment\n",
    "    in connection to sepcific cortex\n",
    "    '''\n",
    "    nuclei_dict = {\"LPFC\":1,\n",
    "                  \"LTC\":2,\n",
    "                  \"MPFC\":3,\n",
    "                  \"MTC\":4,\n",
    "                  \"OCC\":5,\n",
    "                  \"OFC\":6,\n",
    "                  \"PC\":7,\n",
    "                  \"SMC\":8}\n",
    "    nucleiNum = nuclei_dict[cortex]\n",
    "    cortexMap = segment_map == nucleiNum\n",
    "    segment_volume = np.sum(cortexMap)\n",
    "    \n",
    "    segment_mk = cortexMap * mk_map\n",
    "    mk_mean = segment_mk[segment_mk!=0].mean()\n",
    "\n",
    "    return mk_mean, segment_volume"
   ]
  },
  {
   "cell_type": "code",
   "execution_count": 6,
   "metadata": {
    "collapsed": true
   },
   "outputs": [],
   "source": [
    "def get_connectivity_for_nuclei(subject, side, cortex):\n",
    "    '''\n",
    "    Returns the sum of connectivity\n",
    "    in the thalamic segment\n",
    "    '''\n",
    "    if side == 'left':\n",
    "        side_s = 'lh'\n",
    "    else:\n",
    "        side_s = 'rh'\n",
    "    \n",
    "    connectivity_file = os.path.join(dataLoc, \n",
    "                                    subject,\n",
    "                                    'segmentation',\n",
    "                                    side,'seeds_to_{side_s}_{cortex}.nii.gz'.format(side_s=side_s,\n",
    "                                                                                   cortex=cortex))\n",
    "    f = nb.load(connectivity_file)\n",
    "    connectivit_map = f.get_data()\n",
    "    \n",
    "    totalConnectivity = connectivit_map.sum()\n",
    "    return totalConnectivity\n",
    "    "
   ]
  },
  {
   "cell_type": "code",
   "execution_count": 10,
   "metadata": {
    "collapsed": true
   },
   "outputs": [],
   "source": [
    "def thalamic_mk(subject, side):\n",
    "    '''\n",
    "    Returns a pandas dataframe,\n",
    "    containing MK of thalamic segments \n",
    "    for a given subject\n",
    "    '''\n",
    "    group = subject[:3]\n",
    "    segment_map = get_segment_map(subject, side)\n",
    "    mk_map = get_mk_map(subject)\n",
    "    \n",
    "    df = pd.DataFrame()\n",
    "    for cortex in [\"LPFC\", \"LTC\", \"MPFC\", \"MTC\", \"OCC\", \"OFC\", \"PC\", \"SMC\"]:\n",
    "        totalConnectivity = get_connectivity_for_nuclei(subject, side, cortex)\n",
    "        mk_mean, segment_volume = get_mean_MK_for_nuclei(segment_map, mk_map, cortex)\n",
    "        cortex_df = pd.DataFrame(data = [[mk_mean, segment_volume,totalConnectivity,cortex, side, group]], \n",
    "                                 index=[subject], \n",
    "                                 columns=['MK','nucleiVolume','totalConnectivity','cortex','side','group'])\n",
    "        df = pd.concat([df, cortex_df])\n",
    "    \n",
    "    df['relativeConnectivity'] = df.totalConnectivity / df.totalConnectivity.sum()\n",
    "    return df"
   ]
  },
  {
   "cell_type": "code",
   "execution_count": 42,
   "metadata": {
    "collapsed": true
   },
   "outputs": [],
   "source": [
    "def main():\n",
    "    '''\n",
    "    Estimates the mean kurtosis in the thalamic segments\n",
    "    for all subjects.\n",
    "    The thalamic segments is obtained from the connectivity-based segmentation\n",
    "    from FSL.\n",
    "    \n",
    "    It returns mk_data.csv containing all subjects' data.\n",
    "    \n",
    "    '''\n",
    "    allData = pd.DataFrame()\n",
    "    for subject in subjects:\n",
    "        for side in ['left','right']:\n",
    "            subjectDf = thalamic_mk(subject, side)\n",
    "            allData = pd.concat([allData, subjectDf])\n",
    "    \n",
    "    allData.to_csv('mk_data.csv')"
   ]
  },
  {
   "cell_type": "code",
   "execution_count": null,
   "metadata": {
    "collapsed": true
   },
   "outputs": [],
   "source": []
  },
  {
   "cell_type": "markdown",
   "metadata": {},
   "source": [
    "```\n",
    "if __name__ == '__main__':\n",
    "    parser = argparse.ArgumentParser(\n",
    "        formatter_class=argparse.RawDescriptionHelpFormatter,\n",
    "        description=textwrap.dedent('''\\\n",
    "            {codeName} : Estimates mean kurtosis in the thalamic nuclei\n",
    "            ===========================================================\n",
    "            '''.format(codeName=os.path.basename(__file__))))\n",
    "\n",
    "    parser.add_argument(\n",
    "        '-s', '--subjects',\n",
    "        help='subject list',\n",
    "        nargs='+')\n",
    "\n",
    "    parser.add_argument(\n",
    "        '-side', '--side',\n",
    "        help='side')\n",
    "    \n",
    "    args = parser.parse_args()    \n",
    "    thalamic_mk(args)\n",
    "```"
   ]
  },
  {
   "cell_type": "code",
   "execution_count": null,
   "metadata": {
    "collapsed": true
   },
   "outputs": [],
   "source": []
  }
 ],
 "metadata": {
  "kernelspec": {
   "display_name": "Python 2",
   "language": "python",
   "name": "python2"
  },
  "language_info": {
   "codemirror_mode": {
    "name": "ipython",
    "version": 2
   },
   "file_extension": ".py",
   "mimetype": "text/x-python",
   "name": "python",
   "nbconvert_exporter": "python",
   "pygments_lexer": "ipython2",
   "version": "2.7.2"
  }
 },
 "nbformat": 4,
 "nbformat_minor": 0
}
