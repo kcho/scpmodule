{
 "cells": [
  {
   "cell_type": "markdown",
   "metadata": {},
   "source": [
    "# Thalamic nuclei mean kurtosis estimation"
   ]
  },
  {
   "cell_type": "markdown",
   "metadata": {},
   "source": [
    "> Import modules"
   ]
  },
  {
   "cell_type": "code",
   "execution_count": 1,
   "metadata": {
    "collapsed": true
   },
   "outputs": [],
   "source": [
    "import pandas\n",
    "import os\n",
    "import re\n",
    "import numpy\n",
    "import nibabel\n",
    "import argparse\n",
    "import textwrap\n",
    "import time\n",
    "import pp"
   ]
  },
  {
   "cell_type": "markdown",
   "metadata": {},
   "source": [
    "> Set input subjects / file locations"
   ]
  },
  {
   "cell_type": "code",
   "execution_count": 2,
   "metadata": {
    "collapsed": true
   },
   "outputs": [],
   "source": [
    "dataLoc = os.getcwd()\n",
    "subjects = [x for x in os.listdir(dataLoc) if x.startswith('N') or x.startswith('F')]"
   ]
  },
  {
   "cell_type": "code",
   "execution_count": 3,
   "metadata": {
    "collapsed": false
   },
   "outputs": [],
   "source": [
    "def get_segment_map(subject,side, dataLoc):\n",
    "    '''\n",
    "    Returns nibabel matrix of \n",
    "    the connectivity-based segmentation map of thalamus\n",
    "    '''\n",
    "    segment_file = os.path.join(dataLoc,\n",
    "                              subject,\n",
    "                              'segmentation',\n",
    "                              side,\n",
    "                              'dki_biggest.nii.gz')\n",
    "    f = nibabel.load(segment_file)\n",
    "    segment_map = f.get_data()\n",
    "    return segment_map"
   ]
  },
  {
   "cell_type": "code",
   "execution_count": 4,
   "metadata": {
    "collapsed": true
   },
   "outputs": [],
   "source": [
    "def get_mk_map(subject, dataLoc):\n",
    "    '''\n",
    "    Returns nibabel matrix of\n",
    "    the whole brain mean kurtosis image\n",
    "    '''\n",
    "    mk_file = os.path.join(dataLoc,\n",
    "                         subject,\n",
    "                         'DKI',\n",
    "                         'kmean.nii')\n",
    "    f = nibabel.load(mk_file)\n",
    "    mk_map = f.get_data()\n",
    "    return mk_map"
   ]
  },
  {
   "cell_type": "code",
   "execution_count": 5,
   "metadata": {
    "collapsed": true
   },
   "outputs": [],
   "source": [
    "def get_mean_MK_for_nuclei(segment_map, mk_map, cortex):\n",
    "    '''\n",
    "    Returns mean of the MK, and the volume \n",
    "    of the thalamic segment\n",
    "    in connection to sepcific cortex\n",
    "    '''\n",
    "    nuclei_dict = {\"LPFC\":1,\n",
    "                  \"LTC\":2,\n",
    "                  \"MPFC\":3,\n",
    "                  \"MTC\":4,\n",
    "                  \"OCC\":5,\n",
    "                  \"OFC\":6,\n",
    "                  \"PC\":7,\n",
    "                  \"SMC\":8}\n",
    "    nucleiNum = nuclei_dict[cortex]\n",
    "    cortexMap = segment_map == nucleiNum # returns boolean matrix of the matching cortex\n",
    "    segment_volume = numpy.sum(cortexMap) # count number of True (voxels of the matching cortex)\n",
    "    \n",
    "    segment_mk = cortexMap * mk_map # returns mk_map within the thalamic nucleus of matching cortex\n",
    "    mk_mean = segment_mk[segment_mk!=0].mean() # non-zero mean\n",
    "\n",
    "    return mk_mean, segment_volume"
   ]
  },
  {
   "cell_type": "code",
   "execution_count": 6,
   "metadata": {
    "collapsed": true
   },
   "outputs": [],
   "source": [
    "def get_short_side(side):\n",
    "    if side == 'left':\n",
    "        side_s = 'lh'\n",
    "    else:\n",
    "        side_s = 'rh'\n",
    "    return side_s"
   ]
  },
  {
   "cell_type": "code",
   "execution_count": 7,
   "metadata": {
    "collapsed": true
   },
   "outputs": [],
   "source": [
    "def get_cortex_volume(subject, side, dataLoc, cortex):\n",
    "    '''\n",
    "    Returns the volume of the given cortex ROI\n",
    "    '''\n",
    "    side_s = get_short_side(side)\n",
    "    cortexROI = os.path.join(dataLoc,\n",
    "                            subject,\n",
    "                            'ROI',\n",
    "                            '{side_s}_{cortex}.nii.gz'.format(side_s=side_s,\n",
    "                                                             cortex=cortex))\n",
    "    cortexVolume = get_volume(cortexROI)\n",
    "    return cortexVolume"
   ]
  },
  {
   "cell_type": "code",
   "execution_count": 8,
   "metadata": {
    "collapsed": true
   },
   "outputs": [],
   "source": [
    "def get_connectivity_for_nuclei(subject, side, dataLoc, cortex):\n",
    "    '''\n",
    "    Returns the sum of connectivity\n",
    "    in the thalamic segment\n",
    "    '''\n",
    "\n",
    "    \n",
    "    side_s = get_short_side(side)\n",
    "    connectivity_file = os.path.join(dataLoc, \n",
    "                                    subject,\n",
    "                                    'segmentation',\n",
    "                                    side,\n",
    "                                    'seeds_to_{side_s}_{cortex}.nii.gz'.format(side_s=side_s,\n",
    "                                                                                cortex=cortex))\n",
    "    totalConnectivity = get_volume(connectivity_file)\n",
    "    return totalConnectivity\n",
    "    "
   ]
  },
  {
   "cell_type": "code",
   "execution_count": 9,
   "metadata": {
    "collapsed": true
   },
   "outputs": [],
   "source": [
    "def get_volume(imgFile):\n",
    "    return nibabel.load(imgFile).get_data().sum()"
   ]
  },
  {
   "cell_type": "code",
   "execution_count": 10,
   "metadata": {
    "collapsed": true
   },
   "outputs": [],
   "source": [
    "def thalamic_mk(subject,side,dataLoc):\n",
    "    '''\n",
    "    Returns a pandas dataframe,\n",
    "    containing MK of thalamic segments \n",
    "    for a given subject\n",
    "    '''\n",
    "    group = subject[:3]\n",
    "    segment_map = get_segment_map(subject, side, dataLoc)\n",
    "    mk_map = get_mk_map(subject, dataLoc)\n",
    "    side_s = get_short_side(side)\n",
    "    \n",
    "    df = pandas.DataFrame()\n",
    "    for cortex in [\"LPFC\", \"LTC\", \"MPFC\", \"MTC\", \"OCC\", \"OFC\", \"PC\", \"SMC\"]:\n",
    "        totalConnectivity = get_connectivity_for_nuclei(subject, side, dataLoc, cortex)\n",
    "        cortexVolume = get_cortex_volume(subject, side, dataLoc, cortex)\n",
    "        mk_mean, segment_volume = get_mean_MK_for_nuclei(segment_map, mk_map, cortex)\n",
    "        \n",
    "        cortex_df = pandas.DataFrame(data = [[mk_mean, \n",
    "                                          segment_volume,\n",
    "                                          totalConnectivity,\n",
    "                                          cortexVolume,\n",
    "                                          cortex, \n",
    "                                          side, \n",
    "                                          group]], \n",
    "                                 index=[subject], \n",
    "                                 columns=['MK',\n",
    "                                          'nucleiVolume',\n",
    "                                          'totalConnectivity',\n",
    "                                          'cortexVolume',\n",
    "                                          'cortex',\n",
    "                                          'side',\n",
    "                                          'group'])\n",
    "        df = pandas.concat([df, cortex_df])\n",
    "    \n",
    "    df['relativeConnectivity'] = df.totalConnectivity / df.totalConnectivity.sum()\n",
    "    df['thalamucVolume'] = get_volume(os.path.join(dataLoc, subject, 'ROI', side_s+'_thalamus.nii.gz'))\n",
    "    return df"
   ]
  },
  {
   "cell_type": "code",
   "execution_count": 11,
   "metadata": {
    "collapsed": true
   },
   "outputs": [],
   "source": [
    "def main():\n",
    "    '''\n",
    "    Estimates the mean kurtosis in the thalamic segments\n",
    "    for all subjects.\n",
    "    The thalamic segments is obtained from the connectivity-based segmentation\n",
    "    from FSL.\n",
    "    \n",
    "    It returns mk_data.csv containing all subjects' data.\n",
    "    \n",
    "    '''\n",
    "    allData = pandas.DataFrame()\n",
    "    for subject in subjects:\n",
    "        for side in ['left','right']:\n",
    "            subjectDf = thalamic_mk(subject, side)\n",
    "            allData = pandas.concat([allData, subjectDf])\n",
    "    \n",
    "    allData.to_csv('mk_data.csv')"
   ]
  },
  {
   "cell_type": "code",
   "execution_count": 20,
   "metadata": {
    "collapsed": true
   },
   "outputs": [],
   "source": [
    "def main_parallel(subjects, ncpus=20):\n",
    "    '''\n",
    "    Estimates the mean kurtosis in the thalamic segments\n",
    "    for all subjects.\n",
    "    The thalamic segments is obtained from the connectivity-based segmentation\n",
    "    from FSL.\n",
    "    \n",
    "    It returns mk_data.csv containing all subjects' data.\n",
    "    \n",
    "    '''\n",
    "\n",
    "    \n",
    "    ppservers=()\n",
    "    job_server = pp.Server(ncpus, ppservers=ppservers, secret='ccncserver')\n",
    "    print \"Starting pp with\", job_server.get_ncpus(), \"workers\"\n",
    "    \n",
    "    \n",
    "    start_time = time.time()\n",
    "    \n",
    "    jobs=[]\n",
    "    for side in ['left','right']:\n",
    "        job = [(subject, \n",
    "                 job_server.submit(thalamic_mk,\n",
    "                                   (subject,side,dataLoc),\n",
    "                                   (get_segment_map,\n",
    "                                    get_mk_map,\n",
    "                                    get_short_side,\n",
    "                                    get_volume,\n",
    "                                    get_connectivity_for_nuclei,\n",
    "                                    get_cortex_volume,\n",
    "                                    get_mean_MK_for_nuclei),\n",
    "                                   (\"os\",\"pandas\",\"nibabel\",\"numpy\"))) for subject in subjects]\n",
    "        jobs = jobs+job\n",
    "    \n",
    "    \n",
    "    allData = pandas.DataFrame()\n",
    "    for command, job in jobs:\n",
    "        print command, \"is completed\"\n",
    "        subjectDf = job()\n",
    "        allData = pandas.concat([allData, subjectDf])\n",
    "    \n",
    "    print \"Time elapsed: \", time.time() - start_time, \"s\"\n",
    "    job_server.print_stats()\n",
    "    \n",
    "    print allData\n",
    "    allData.to_csv('mk_data.csv')"
   ]
  },
  {
   "cell_type": "code",
   "execution_count": 19,
   "metadata": {
    "collapsed": false,
    "scrolled": true
   },
   "outputs": [
    {
     "name": "stdout",
     "output_type": "stream",
     "text": [
      "Starting pp with 20 workers\n",
      "NOR54_SSR is completed\n",
      "NOR56_YIW is completed\n",
      "NOR54_SSR is completed\n",
      "NOR56_YIW is completed\n",
      "/ccnc_bin/venv/lib/python2.7/site-packages/numpy/core/_methods.py:59: RuntimeWarning: Mean of empty slice.\n",
      "  warnings.warn(\"Mean of empty slice.\", RuntimeWarning)\n",
      "Time elapsed:  22.0210921764 s\n",
      "Job execution statistics:\n",
      " job count | % of all jobs | job time sum | time per job | job server\n",
      "         4 |        100.00 |      87.8601 |    21.965022 | local\n",
      "Time elapsed since server creation 22.0216529369\n",
      "0 active tasks, 20 cores\n",
      "\n",
      "                       MK  nucleiVolume  totalConnectivity  cortexVolume  \\\n",
      "NOR54_SSR   1.09940481186           101            2121739         26594   \n",
      "NOR54_SSR  0.809105396271            31            1544127         39806   \n",
      "NOR54_SSR  0.963177204132           125            2356440         29168   \n",
      "NOR54_SSR  0.928298413754           111            1663457         13981   \n",
      "NOR54_SSR  0.683056890965            11             257482         21516   \n",
      "NOR54_SSR   1.11329996586            61            1388698         14823   \n",
      "NOR54_SSR  0.880607843399            87            1708450         51610   \n",
      "NOR54_SSR   1.05637037754           167            6729421         33583   \n",
      "NOR56_YIW  0.923722624779           134            3983106         25098   \n",
      "NOR56_YIW  0.885921955109           156            4923029         39559   \n",
      "NOR56_YIW  0.833970069885           192            5814720         29182   \n",
      "NOR56_YIW  0.981900393963             6            1409927         13958   \n",
      "NOR56_YIW   1.07977497578            10             711779         21521   \n",
      "NOR56_YIW   1.05167329311            30            1233318         14559   \n",
      "NOR56_YIW  0.921170055866           103            2617901         56210   \n",
      "NOR56_YIW  0.808777451515           119            4792444         33542   \n",
      "NOR54_SSR   1.12041378021           122            2632702         25666   \n",
      "NOR54_SSR  0.899279594421            80            1728798         35413   \n",
      "NOR54_SSR   1.02708125114           158            2899477         27100   \n",
      "NOR54_SSR   1.08186912537            73            1124328         14184   \n",
      "NOR54_SSR   1.13493692875             3             141614         20530   \n",
      "NOR54_SSR   1.11048138142            46            1559922         13906   \n",
      "NOR54_SSR  0.751411318779            54            1386554         54258   \n",
      "NOR54_SSR  0.875607788563           118            4736757         34252   \n",
      "NOR56_YIW    1.0256780386           223            3700301         24541   \n",
      "NOR56_YIW  0.937575638294            69            1443478         37794   \n",
      "NOR56_YIW  0.957930862904           125            4818627         25920   \n",
      "NOR56_YIW             nan             0             293359         12424   \n",
      "NOR56_YIW  0.757353961468            25             942369         24476   \n",
      "NOR56_YIW   1.04852390289             8            1155127         15182   \n",
      "NOR56_YIW   1.21187806129           133            3802016         55031   \n",
      "NOR56_YIW  0.941863298416           115            5535042         34927   \n",
      "\n",
      "          cortex   side group  relativeConnectivity  thalamucVolume  \n",
      "NOR54_SSR   LPFC   left   NOR              0.119401            8658  \n",
      "NOR54_SSR    LTC   left   NOR              0.086896            8658  \n",
      "NOR54_SSR   MPFC   left   NOR              0.132609            8658  \n",
      "NOR54_SSR    MTC   left   NOR              0.093611            8658  \n",
      "NOR54_SSR    OCC   left   NOR              0.014490            8658  \n",
      "NOR54_SSR    OFC   left   NOR              0.078149            8658  \n",
      "NOR54_SSR     PC   left   NOR              0.096143            8658  \n",
      "NOR54_SSR    SMC   left   NOR              0.378700            8658  \n",
      "NOR56_YIW   LPFC   left   NOR              0.156285            9377  \n",
      "NOR56_YIW    LTC   left   NOR              0.193164            9377  \n",
      "NOR56_YIW   MPFC   left   NOR              0.228151            9377  \n",
      "NOR56_YIW    MTC   left   NOR              0.055321            9377  \n",
      "NOR56_YIW    OCC   left   NOR              0.027928            9377  \n",
      "NOR56_YIW    OFC   left   NOR              0.048392            9377  \n",
      "NOR56_YIW     PC   left   NOR              0.102718            9377  \n",
      "NOR56_YIW    SMC   left   NOR              0.188041            9377  \n",
      "NOR54_SSR   LPFC  right   NOR              0.162411            7994  \n",
      "NOR54_SSR    LTC  right   NOR              0.106649            7994  \n",
      "NOR54_SSR   MPFC  right   NOR              0.178868            7994  \n",
      "NOR54_SSR    MTC  right   NOR              0.069359            7994  \n",
      "NOR54_SSR    OCC  right   NOR              0.008736            7994  \n",
      "NOR54_SSR    OFC  right   NOR              0.096231            7994  \n",
      "NOR54_SSR     PC  right   NOR              0.085536            7994  \n",
      "NOR54_SSR    SMC  right   NOR              0.292209            7994  \n",
      "NOR56_YIW   LPFC  right   NOR              0.170597            8964  \n",
      "NOR56_YIW    LTC  right   NOR              0.066549            8964  \n",
      "NOR56_YIW   MPFC  right   NOR              0.222156            8964  \n",
      "NOR56_YIW    MTC  right   NOR              0.013525            8964  \n",
      "NOR56_YIW    OCC  right   NOR              0.043447            8964  \n",
      "NOR56_YIW    OFC  right   NOR              0.053255            8964  \n",
      "NOR56_YIW     PC  right   NOR              0.175286            8964  \n",
      "NOR56_YIW    SMC  right   NOR              0.255185            8964  \n"
     ]
    }
   ],
   "source": [
    "main_parallel(subjects,20)"
   ]
  },
  {
   "cell_type": "markdown",
   "metadata": {},
   "source": [
    "```\n",
    "if __name__ == '__main__':\n",
    "    parser = argparse.ArgumentParser(\n",
    "        formatter_class=argparse.RawDescriptionHelpFormatter,\n",
    "        description=textwrap.dedent('''\\\n",
    "            {codeName} : Estimates mean kurtosis in the thalamic nuclei\n",
    "            ===========================================================\n",
    "            '''.format(codeName=os.path.basename(__file__))))\n",
    "\n",
    "    parser.add_argument(\n",
    "        '-s', '--subjects',\n",
    "        help='subject list',\n",
    "        nargs='+')\n",
    "\n",
    "    parser.add_argument(\n",
    "        '-side', '--side',\n",
    "        help='side')\n",
    "    \n",
    "    args = parser.parse_args()    \n",
    "    thalamic_mk(args)\n",
    "```"
   ]
  },
  {
   "cell_type": "code",
   "execution_count": null,
   "metadata": {
    "collapsed": true
   },
   "outputs": [],
   "source": []
  },
  {
   "cell_type": "code",
   "execution_count": null,
   "metadata": {
    "collapsed": true
   },
   "outputs": [],
   "source": []
  }
 ],
 "metadata": {
  "kernelspec": {
   "display_name": "Python 2",
   "language": "python",
   "name": "python2"
  },
  "language_info": {
   "codemirror_mode": {
    "name": "ipython",
    "version": 2
   },
   "file_extension": ".py",
   "mimetype": "text/x-python",
   "name": "python",
   "nbconvert_exporter": "python",
   "pygments_lexer": "ipython2",
   "version": "2.7.2"
  }
 },
 "nbformat": 4,
 "nbformat_minor": 0
}
