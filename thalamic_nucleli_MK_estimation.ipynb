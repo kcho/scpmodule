{
 "cells": [
  {
   "cell_type": "markdown",
   "metadata": {},
   "source": [
    "# Thalamic nuclei mean kurtosis estimation"
   ]
  },
  {
   "cell_type": "markdown",
   "metadata": {},
   "source": [
    "> Import ROIs"
   ]
  },
  {
   "cell_type": "code",
   "execution_count": 13,
   "metadata": {
    "collapsed": true
   },
   "outputs": [],
   "source": [
    "import pandas as pd\n",
    "import os\n",
    "import re\n",
    "import numpy as np\n",
    "import nibabel as nb\n",
    "import argparse\n",
    "import textwrap"
   ]
  },
  {
   "cell_type": "markdown",
   "metadata": {},
   "source": [
    "> Set input subjects / file locations"
   ]
  },
  {
   "cell_type": "code",
   "execution_count": 4,
   "metadata": {
    "collapsed": true
   },
   "outputs": [],
   "source": [
    "dataLoc = os.getcwd()\n",
    "subjects = [x for x in os.listdir(dataLoc) if x.startswith('N') or x.startswith('F')]"
   ]
  },
  {
   "cell_type": "code",
   "execution_count": 34,
   "metadata": {
    "collapsed": false
   },
   "outputs": [],
   "source": [
    "def get_segment_map(subject,side):\n",
    "    '''\n",
    "    Returns nibabel matrix of \n",
    "    the connectivity-based segmentation map of thalamus\n",
    "    '''\n",
    "    segment_file = os.path.join(dataLoc,\n",
    "                              subject,\n",
    "                              'segmentation',\n",
    "                              side,\n",
    "                              'dki_biggest.nii.gz')\n",
    "    f = nb.load(segment_file)\n",
    "    segment_map = f.get_data()\n",
    "    return segment_map"
   ]
  },
  {
   "cell_type": "code",
   "execution_count": 35,
   "metadata": {
    "collapsed": true
   },
   "outputs": [],
   "source": [
    "def get_mk_map(subject):\n",
    "    '''\n",
    "    Returns nibabel matrix of\n",
    "    the whole brain mean kurtosis image\n",
    "    '''\n",
    "    mk_file = os.path.join(dataLoc,\n",
    "                         subject,\n",
    "                         'DKI',\n",
    "                         'kmean.nii')\n",
    "    f = nb.load(mk_file)\n",
    "    mk_map = f.get_data()\n",
    "    return mk_map"
   ]
  },
  {
   "cell_type": "code",
   "execution_count": 59,
   "metadata": {
    "collapsed": true
   },
   "outputs": [],
   "source": [
    "def get_mean_MK_for_nuclei(segment_map, mk_map, cortex):\n",
    "    '''\n",
    "    Returns mean of the MK, and the volume \n",
    "    of the thalamic segment\n",
    "    in connection to sepcific cortex\n",
    "    '''\n",
    "    nuclei_dict = {\"LPFC\":1,\n",
    "                  \"LTC\":2,\n",
    "                  \"MPFC\":3,\n",
    "                  \"MTC\":4,\n",
    "                  \"OCC\":5,\n",
    "                  \"OFC\":6,\n",
    "                  \"PC\":7,\n",
    "                  \"SMC\":8}\n",
    "    nucleiNum = nuclei_dict[cortex]\n",
    "    cortexMap = segment_map == nucleiNum\n",
    "    segment_volume = np.sum(cortexMap)\n",
    "    \n",
    "    segment_mk = cortexMap * mk_map\n",
    "    mk_mean = segment_mk[segment_mk!=0].mean()\n",
    "\n",
    "    return mk_mean, segment_volume"
   ]
  },
  {
   "cell_type": "code",
   "execution_count": 68,
   "metadata": {
    "collapsed": true
   },
   "outputs": [],
   "source": [
    "def get_connectivity_for_nuclei(subject, side, cortex):\n",
    "    '''\n",
    "    Returns the sum of connectivity\n",
    "    in the thalamic segment\n",
    "    '''\n",
    "    if side == 'left':\n",
    "        side_s = 'lh'\n",
    "    else:\n",
    "        side_s = 'rh'\n",
    "    \n",
    "    connectivity_file = os.path.join(dataLoc, \n",
    "                                    subject,\n",
    "                                    'segmentation',\n",
    "                                    side,'seeds_to_{side_s}_{cortex}.nii.gz'.format(side_s=side_s,\n",
    "                                                                                   cortex=cortex))\n",
    "    f = nb.load(connectivity_file)\n",
    "    connectivit_map = f.get_data()\n",
    "    \n",
    "    totalConnectivity = connectivit_map.sum()\n",
    "    return totalConnectivity\n",
    "    "
   ]
  },
  {
   "cell_type": "code",
   "execution_count": 76,
   "metadata": {
    "collapsed": true
   },
   "outputs": [],
   "source": [
    "def thalamic_mk(subject, side):\n",
    "    '''\n",
    "    Returns a pandas dataframe,\n",
    "    containing MK of thalamic segments \n",
    "    for a given subject\n",
    "    '''\n",
    "    group = subject[:3]\n",
    "    segment_map = get_segment_map(subject, side)\n",
    "    mk_map = get_mk_map(subject)\n",
    "    \n",
    "    df = pd.DataFrame()\n",
    "    for cortex in [\"LPFC\", \"LTC\", \"MPFC\", \"MTC\", \"OCC\", \"OFC\", \"PC\", \"SMC\"]:\n",
    "        totalConnectivity = get_connectivity_for_nuclei(subject, side, cortex)\n",
    "        mk_mean, segment_volume = get_mean_MK_for_nuclei(segment_map, mk_map, cortex)\n",
    "        cortex_df = pd.DataFrame(data = [[mk_mean, segment_volume,totalConnectivity,cortex, side, group]], \n",
    "                                 index=[subject], \n",
    "                                 columns=['MK','nucleiVolume','totalConnectivity','cortex','side','group'])\n",
    "        df = pd.concat([df, cortex_df])\n",
    "    \n",
    "    df = df['relativeConnectivity'] = df.totalConnectivity / df.totalConnectivity.sum()\n",
    "    return df"
   ]
  },
  {
   "cell_type": "code",
   "execution_count": null,
   "metadata": {
    "collapsed": false
   },
   "outputs": [],
   "source": [
    "thalamic_mk('NOR26_YJH','left')"
   ]
  },
  {
   "cell_type": "code",
   "execution_count": 75,
   "metadata": {
    "collapsed": false
   },
   "outputs": [
    {
     "data": {
      "text/html": [
       "<div>\n",
       "<table border=\"1\" class=\"dataframe\">\n",
       "  <thead>\n",
       "    <tr style=\"text-align: right;\">\n",
       "      <th></th>\n",
       "      <th>MK</th>\n",
       "      <th>nucleiVolume</th>\n",
       "      <th>totalConnectivity</th>\n",
       "      <th>cortex</th>\n",
       "      <th>side</th>\n",
       "      <th>group</th>\n",
       "      <th>relativeConnectivity</th>\n",
       "    </tr>\n",
       "  </thead>\n",
       "  <tbody>\n",
       "    <tr>\n",
       "      <th>NOR26_YJH</th>\n",
       "      <td>0.830991446972</td>\n",
       "      <td>137</td>\n",
       "      <td>2467689</td>\n",
       "      <td>LPFC</td>\n",
       "      <td>left</td>\n",
       "      <td>NOR</td>\n",
       "      <td>0.135294</td>\n",
       "    </tr>\n",
       "    <tr>\n",
       "      <th>NOR26_YJH</th>\n",
       "      <td>0.722406148911</td>\n",
       "      <td>128</td>\n",
       "      <td>3109955</td>\n",
       "      <td>LTC</td>\n",
       "      <td>left</td>\n",
       "      <td>NOR</td>\n",
       "      <td>0.170507</td>\n",
       "    </tr>\n",
       "    <tr>\n",
       "      <th>NOR26_YJH</th>\n",
       "      <td>0.741360068321</td>\n",
       "      <td>71</td>\n",
       "      <td>2214287</td>\n",
       "      <td>MPFC</td>\n",
       "      <td>left</td>\n",
       "      <td>NOR</td>\n",
       "      <td>0.121401</td>\n",
       "    </tr>\n",
       "    <tr>\n",
       "      <th>NOR26_YJH</th>\n",
       "      <td>0.724031865597</td>\n",
       "      <td>6</td>\n",
       "      <td>1907565</td>\n",
       "      <td>MTC</td>\n",
       "      <td>left</td>\n",
       "      <td>NOR</td>\n",
       "      <td>0.104585</td>\n",
       "    </tr>\n",
       "    <tr>\n",
       "      <th>NOR26_YJH</th>\n",
       "      <td>nan</td>\n",
       "      <td>0</td>\n",
       "      <td>321940</td>\n",
       "      <td>OCC</td>\n",
       "      <td>left</td>\n",
       "      <td>NOR</td>\n",
       "      <td>0.017651</td>\n",
       "    </tr>\n",
       "    <tr>\n",
       "      <th>NOR26_YJH</th>\n",
       "      <td>1.07476615906</td>\n",
       "      <td>10</td>\n",
       "      <td>641725</td>\n",
       "      <td>OFC</td>\n",
       "      <td>left</td>\n",
       "      <td>NOR</td>\n",
       "      <td>0.035183</td>\n",
       "    </tr>\n",
       "    <tr>\n",
       "      <th>NOR26_YJH</th>\n",
       "      <td>0.856482565403</td>\n",
       "      <td>138</td>\n",
       "      <td>2327863</td>\n",
       "      <td>PC</td>\n",
       "      <td>left</td>\n",
       "      <td>NOR</td>\n",
       "      <td>0.127628</td>\n",
       "    </tr>\n",
       "    <tr>\n",
       "      <th>NOR26_YJH</th>\n",
       "      <td>0.787861406803</td>\n",
       "      <td>126</td>\n",
       "      <td>5248410</td>\n",
       "      <td>SMC</td>\n",
       "      <td>left</td>\n",
       "      <td>NOR</td>\n",
       "      <td>0.287751</td>\n",
       "    </tr>\n",
       "  </tbody>\n",
       "</table>\n",
       "</div>"
      ],
      "text/plain": [
       "                       MK  nucleiVolume  totalConnectivity cortex  side group  \\\n",
       "NOR26_YJH  0.830991446972           137            2467689   LPFC  left   NOR   \n",
       "NOR26_YJH  0.722406148911           128            3109955    LTC  left   NOR   \n",
       "NOR26_YJH  0.741360068321            71            2214287   MPFC  left   NOR   \n",
       "NOR26_YJH  0.724031865597             6            1907565    MTC  left   NOR   \n",
       "NOR26_YJH             nan             0             321940    OCC  left   NOR   \n",
       "NOR26_YJH   1.07476615906            10             641725    OFC  left   NOR   \n",
       "NOR26_YJH  0.856482565403           138            2327863     PC  left   NOR   \n",
       "NOR26_YJH  0.787861406803           126            5248410    SMC  left   NOR   \n",
       "\n",
       "           relativeConnectivity  \n",
       "NOR26_YJH              0.135294  \n",
       "NOR26_YJH              0.170507  \n",
       "NOR26_YJH              0.121401  \n",
       "NOR26_YJH              0.104585  \n",
       "NOR26_YJH              0.017651  \n",
       "NOR26_YJH              0.035183  \n",
       "NOR26_YJH              0.127628  \n",
       "NOR26_YJH              0.287751  "
      ]
     },
     "execution_count": 75,
     "metadata": {},
     "output_type": "execute_result"
    }
   ],
   "source": [
    "df"
   ]
  },
  {
   "cell_type": "code",
   "execution_count": 64,
   "metadata": {
    "collapsed": false
   },
   "outputs": [
    {
     "data": {
      "text/html": [
       "<div>\n",
       "<table border=\"1\" class=\"dataframe\">\n",
       "  <thead>\n",
       "    <tr style=\"text-align: right;\">\n",
       "      <th></th>\n",
       "      <th>MK</th>\n",
       "      <th>volume</th>\n",
       "      <th>cortex</th>\n",
       "      <th>side</th>\n",
       "      <th>group</th>\n",
       "    </tr>\n",
       "  </thead>\n",
       "  <tbody>\n",
       "    <tr>\n",
       "      <th>NOR81_KSA</th>\n",
       "      <td>0.973071753979</td>\n",
       "      <td>117</td>\n",
       "      <td>LPFC</td>\n",
       "      <td>left</td>\n",
       "      <td>NOR</td>\n",
       "    </tr>\n",
       "    <tr>\n",
       "      <th>NOR81_KSA</th>\n",
       "      <td>0.670243799686</td>\n",
       "      <td>1</td>\n",
       "      <td>LTC</td>\n",
       "      <td>left</td>\n",
       "      <td>NOR</td>\n",
       "    </tr>\n",
       "    <tr>\n",
       "      <th>NOR81_KSA</th>\n",
       "      <td>1.10995388031</td>\n",
       "      <td>6</td>\n",
       "      <td>MPFC</td>\n",
       "      <td>left</td>\n",
       "      <td>NOR</td>\n",
       "    </tr>\n",
       "    <tr>\n",
       "      <th>NOR81_KSA</th>\n",
       "      <td>0.633870244026</td>\n",
       "      <td>151</td>\n",
       "      <td>MTC</td>\n",
       "      <td>left</td>\n",
       "      <td>NOR</td>\n",
       "    </tr>\n",
       "    <tr>\n",
       "      <th>NOR81_KSA</th>\n",
       "      <td>nan</td>\n",
       "      <td>0</td>\n",
       "      <td>OCC</td>\n",
       "      <td>left</td>\n",
       "      <td>NOR</td>\n",
       "    </tr>\n",
       "    <tr>\n",
       "      <th>NOR81_KSA</th>\n",
       "      <td>1.1396958828</td>\n",
       "      <td>80</td>\n",
       "      <td>OFC</td>\n",
       "      <td>left</td>\n",
       "      <td>NOR</td>\n",
       "    </tr>\n",
       "    <tr>\n",
       "      <th>NOR81_KSA</th>\n",
       "      <td>0.956947147846</td>\n",
       "      <td>209</td>\n",
       "      <td>PC</td>\n",
       "      <td>left</td>\n",
       "      <td>NOR</td>\n",
       "    </tr>\n",
       "    <tr>\n",
       "      <th>NOR81_KSA</th>\n",
       "      <td>0.766120910645</td>\n",
       "      <td>30</td>\n",
       "      <td>SMC</td>\n",
       "      <td>left</td>\n",
       "      <td>NOR</td>\n",
       "    </tr>\n",
       "  </tbody>\n",
       "</table>\n",
       "</div>"
      ],
      "text/plain": [
       "                       MK  volume cortex  side group\n",
       "NOR81_KSA  0.973071753979     117   LPFC  left   NOR\n",
       "NOR81_KSA  0.670243799686       1    LTC  left   NOR\n",
       "NOR81_KSA   1.10995388031       6   MPFC  left   NOR\n",
       "NOR81_KSA  0.633870244026     151    MTC  left   NOR\n",
       "NOR81_KSA             nan       0    OCC  left   NOR\n",
       "NOR81_KSA    1.1396958828      80    OFC  left   NOR\n",
       "NOR81_KSA  0.956947147846     209     PC  left   NOR\n",
       "NOR81_KSA  0.766120910645      30    SMC  left   NOR"
      ]
     },
     "execution_count": 64,
     "metadata": {},
     "output_type": "execute_result"
    }
   ],
   "source": [
    "thalamic_mk('NOR81_KSA','left')"
   ]
  },
  {
   "cell_type": "code",
   "execution_count": 65,
   "metadata": {
    "collapsed": false
   },
   "outputs": [
    {
     "data": {
      "text/html": [
       "<div>\n",
       "<table border=\"1\" class=\"dataframe\">\n",
       "  <thead>\n",
       "    <tr style=\"text-align: right;\">\n",
       "      <th></th>\n",
       "      <th>MK</th>\n",
       "      <th>volume</th>\n",
       "      <th>cortex</th>\n",
       "      <th>side</th>\n",
       "      <th>group</th>\n",
       "    </tr>\n",
       "  </thead>\n",
       "  <tbody>\n",
       "    <tr>\n",
       "      <th>NOR60_KSH</th>\n",
       "      <td>0.815050959587</td>\n",
       "      <td>51</td>\n",
       "      <td>LPFC</td>\n",
       "      <td>left</td>\n",
       "      <td>NOR</td>\n",
       "    </tr>\n",
       "    <tr>\n",
       "      <th>NOR60_KSH</th>\n",
       "      <td>0.82516336441</td>\n",
       "      <td>174</td>\n",
       "      <td>LTC</td>\n",
       "      <td>left</td>\n",
       "      <td>NOR</td>\n",
       "    </tr>\n",
       "    <tr>\n",
       "      <th>NOR60_KSH</th>\n",
       "      <td>1.06589615345</td>\n",
       "      <td>204</td>\n",
       "      <td>MPFC</td>\n",
       "      <td>left</td>\n",
       "      <td>NOR</td>\n",
       "    </tr>\n",
       "    <tr>\n",
       "      <th>NOR60_KSH</th>\n",
       "      <td>nan</td>\n",
       "      <td>0</td>\n",
       "      <td>MTC</td>\n",
       "      <td>left</td>\n",
       "      <td>NOR</td>\n",
       "    </tr>\n",
       "    <tr>\n",
       "      <th>NOR60_KSH</th>\n",
       "      <td>0.820995926857</td>\n",
       "      <td>9</td>\n",
       "      <td>OCC</td>\n",
       "      <td>left</td>\n",
       "      <td>NOR</td>\n",
       "    </tr>\n",
       "    <tr>\n",
       "      <th>NOR60_KSH</th>\n",
       "      <td>0.628565847874</td>\n",
       "      <td>89</td>\n",
       "      <td>OFC</td>\n",
       "      <td>left</td>\n",
       "      <td>NOR</td>\n",
       "    </tr>\n",
       "    <tr>\n",
       "      <th>NOR60_KSH</th>\n",
       "      <td>1.0065125227</td>\n",
       "      <td>114</td>\n",
       "      <td>PC</td>\n",
       "      <td>left</td>\n",
       "      <td>NOR</td>\n",
       "    </tr>\n",
       "    <tr>\n",
       "      <th>NOR60_KSH</th>\n",
       "      <td>1.13429534435</td>\n",
       "      <td>157</td>\n",
       "      <td>SMC</td>\n",
       "      <td>left</td>\n",
       "      <td>NOR</td>\n",
       "    </tr>\n",
       "  </tbody>\n",
       "</table>\n",
       "</div>"
      ],
      "text/plain": [
       "                       MK  volume cortex  side group\n",
       "NOR60_KSH  0.815050959587      51   LPFC  left   NOR\n",
       "NOR60_KSH   0.82516336441     174    LTC  left   NOR\n",
       "NOR60_KSH   1.06589615345     204   MPFC  left   NOR\n",
       "NOR60_KSH             nan       0    MTC  left   NOR\n",
       "NOR60_KSH  0.820995926857       9    OCC  left   NOR\n",
       "NOR60_KSH  0.628565847874      89    OFC  left   NOR\n",
       "NOR60_KSH    1.0065125227     114     PC  left   NOR\n",
       "NOR60_KSH   1.13429534435     157    SMC  left   NOR"
      ]
     },
     "execution_count": 65,
     "metadata": {},
     "output_type": "execute_result"
    }
   ],
   "source": [
    "thalamic_mk('NOR60_KSH','left')"
   ]
  },
  {
   "cell_type": "code",
   "execution_count": 42,
   "metadata": {
    "collapsed": true
   },
   "outputs": [],
   "source": [
    "def main():\n",
    "    '''\n",
    "    Estimates the mean kurtosis in the thalamic segments\n",
    "    for all subjects.\n",
    "    The thalamic segments is obtained from the connectivity-based segmentation\n",
    "    from FSL.\n",
    "    \n",
    "    It returns mk_data.csv containing all subjects' data.\n",
    "    \n",
    "    '''\n",
    "    allData = pd.DataFrame()\n",
    "    for subject in subjects:\n",
    "        for side in ['left','right']:\n",
    "            subjectDf = thalamic_mk(subject, side)\n",
    "            allData = pd.concat([allData, subjectDf])\n",
    "    \n",
    "    allData.to_csv('mk_data.csv')"
   ]
  },
  {
   "cell_type": "code",
   "execution_count": null,
   "metadata": {
    "collapsed": true
   },
   "outputs": [],
   "source": []
  },
  {
   "cell_type": "markdown",
   "metadata": {},
   "source": [
    "```\n",
    "if __name__ == '__main__':\n",
    "    parser = argparse.ArgumentParser(\n",
    "        formatter_class=argparse.RawDescriptionHelpFormatter,\n",
    "        description=textwrap.dedent('''\\\n",
    "            {codeName} : Estimates mean kurtosis in the thalamic nuclei\n",
    "            ===========================================================\n",
    "            '''.format(codeName=os.path.basename(__file__))))\n",
    "\n",
    "    parser.add_argument(\n",
    "        '-s', '--subjects',\n",
    "        help='subject list',\n",
    "        nargs='+')\n",
    "\n",
    "    parser.add_argument(\n",
    "        '-side', '--side',\n",
    "        help='side')\n",
    "    \n",
    "    args = parser.parse_args()    \n",
    "    thalamic_mk(args)\n",
    "```"
   ]
  },
  {
   "cell_type": "code",
   "execution_count": null,
   "metadata": {
    "collapsed": true
   },
   "outputs": [],
   "source": []
  }
 ],
 "metadata": {
  "kernelspec": {
   "display_name": "Python 2",
   "language": "python",
   "name": "python2"
  },
  "language_info": {
   "codemirror_mode": {
    "name": "ipython",
    "version": 2
   },
   "file_extension": ".py",
   "mimetype": "text/x-python",
   "name": "python",
   "nbconvert_exporter": "python",
   "pygments_lexer": "ipython2",
   "version": "2.7.2"
  }
 },
 "nbformat": 4,
 "nbformat_minor": 0
}
